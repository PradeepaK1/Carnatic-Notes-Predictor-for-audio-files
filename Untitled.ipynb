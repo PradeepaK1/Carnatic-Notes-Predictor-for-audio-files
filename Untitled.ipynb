{
 "cells": [
  {
   "cell_type": "code",
   "execution_count": null,
   "id": "6649b552-1807-4f0d-8164-aec9524bf0b9",
   "metadata": {},
   "outputs": [],
   "source": [
    "def print_prediction(file_name):\n",
    "    prediction_feature = extract_feature(file_name) \n",
    "    prediction_feature = prediction_feature.reshape(1, num_rows, num_columns, num_channels)\n",
    "    predicted_vector = model.predict_classes(prediction_feature)\n",
    "    predicted_class = le.inverse_transform(predicted_vector) \n",
    "    st.write(\"Key: \", predicted_class[0],end='') \n",
    "    f = open('notes1/log.txt', 'a')\n",
    "    print(predicted_class[0], file = f,end=' ')\n",
    "    \n",
    "    predicted_proba_vector = model.predict_proba(prediction_feature) \n",
    "    predicted_proba = predicted_proba_vector[0]\n",
    "    return 0"
   ]
  },
  {
   "cell_type": "code",
   "execution_count": null,
   "id": "4c988356-1568-44a7-b2e0-45797752ce78",
   "metadata": {},
   "outputs": [],
   "source": [
    "def print_prediction(file_name):\n",
    "    prediction_feature = extract_feature(file_name) \n",
    "    prediction_feature = prediction_feature.reshape(1, num_rows, num_columns, num_channels)\n",
    "    predicted_vector= model.predict(prediction_feature)\n",
    "    predicted_class= le.inverse_transform(np.argmax(predicted_vector, axis=1))\n",
    "    st.write(\"Key: \", predicted_class[0],end='') \n",
    "    f = open('music-carnatic/notes1/log.txt', 'a')\n",
    "    print(predicted_class[0], file = f,end=' ')\n",
    "    \n",
    "    predicted_proba_vector = model.predict(prediction_feature) \n",
    "    predicted_proba = predicted_proba_vector[0]\n",
    "    return 0"
   ]
  }
 ],
 "metadata": {
  "kernelspec": {
   "display_name": "Python 3",
   "language": "python",
   "name": "python3"
  },
  "language_info": {
   "codemirror_mode": {
    "name": "ipython",
    "version": 3
   },
   "file_extension": ".py",
   "mimetype": "text/x-python",
   "name": "python",
   "nbconvert_exporter": "python",
   "pygments_lexer": "ipython3",
   "version": "3.8.8"
  }
 },
 "nbformat": 4,
 "nbformat_minor": 5
}
